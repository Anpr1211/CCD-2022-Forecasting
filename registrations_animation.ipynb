{
 "cells": [
  {
   "cell_type": "code",
   "execution_count": null,
   "metadata": {},
   "outputs": [],
   "source": [
    "# importing libraries\n",
    "import pandas as pd\n",
    "\n",
    "from matplotlib import animation\n",
    "import matplotlib.pyplot as plt\n",
    "from matplotlib.animation import FuncAnimation\n",
    "%matplotlib qt"
   ]
  },
  {
   "cell_type": "code",
   "execution_count": null,
   "metadata": {},
   "outputs": [],
   "source": [
    "# read dataset\n",
    "data = pd.read_csv(r\"<address>\", index_col=0)"
   ]
  },
  {
   "cell_type": "code",
   "execution_count": null,
   "metadata": {},
   "outputs": [],
   "source": [
    "data.creation_timestamp"
   ]
  },
  {
   "cell_type": "code",
   "execution_count": null,
   "metadata": {},
   "outputs": [],
   "source": [
    "# convert the datatype\n",
    "time = pd.to_datetime(data.creation_timestamp)"
   ]
  },
  {
   "cell_type": "code",
   "execution_count": null,
   "metadata": {},
   "outputs": [],
   "source": [
    "# extracting the dates only\n",
    "days = pd.Series([time[d].date() for d in range(len(time))])"
   ]
  },
  {
   "cell_type": "code",
   "execution_count": null,
   "metadata": {},
   "outputs": [],
   "source": [
    "# arranging the dates chronologically\n",
    "days_sorted = pd.DataFrame(days.value_counts())"
   ]
  },
  {
   "cell_type": "code",
   "execution_count": null,
   "metadata": {},
   "outputs": [],
   "source": [
    "days_sorted.sort_index(inplace=True)"
   ]
  },
  {
   "cell_type": "code",
   "execution_count": null,
   "metadata": {},
   "outputs": [],
   "source": [
    "len(days_sorted)"
   ]
  },
  {
   "cell_type": "code",
   "execution_count": null,
   "metadata": {},
   "outputs": [],
   "source": [
    "# saving the data set for data sonification\n",
    "days_sorted[0].cumsum().to_csv(\"cumulative_data.csv\")"
   ]
  },
  {
   "cell_type": "code",
   "execution_count": null,
   "metadata": {},
   "outputs": [],
   "source": [
    "y1 = days_sorted[0].cumsum()   # cumulative number of registrations\n",
    "t = days_sorted.index          # date\n",
    "\n",
    "x,y = [], []"
   ]
  },
  {
   "cell_type": "code",
   "execution_count": null,
   "metadata": {},
   "outputs": [],
   "source": [
    "# function to add a consecutive point to the plot\n",
    "def animate(i):\n",
    "    x.append(t[i])\n",
    "    y.append((y1[i]))\n",
    "    plt.plot(x, y, scaley=True, scalex=True, color=\"blue\")"
   ]
  },
  {
   "cell_type": "code",
   "execution_count": null,
   "metadata": {},
   "outputs": [],
   "source": [
    "# position of xticks\n",
    "xtick_pos = [days_sorted[0].index[i] for i in [0, 12, 26, 40]]"
   ]
  },
  {
   "cell_type": "code",
   "execution_count": null,
   "metadata": {},
   "outputs": [],
   "source": [
    "# animation line plot example\n",
    "\n",
    "fig, ax = plt.subplots(1, 1, figsize = (6, 6))\n",
    "\n",
    "def animate(i):\n",
    "    ax.cla() # clear the previous image\n",
    "    ax.plot(t[:i], y1.values[:i], marker='o', color='black') # plot the line\n",
    "    ax.set_xlim([t[0], t[40]]) # fix the x axis\n",
    "    ax.set_ylim([0, 2800]) # fix the y axis\n",
    "    \n",
    "    plt.xlabel('Date', fontsize=16)\n",
    "    plt.ylabel('Number of Registrations', fontsize=16)\n",
    "    plt.title(\"Number of applications received during the registration period\", fontsize=25)\n",
    "    \n",
    "    ax.tick_params(axis='x', which='major', labelsize=15)\n",
    "    ax.tick_params(axis='y', which='major', labelsize=12)\n",
    "    plt.xticks(xtick_pos, xtick_pos)\n",
    "    \n",
    "    # add the counts to the graph points\n",
    "    for j in range(0, len(y1.values[:i]), 3):\n",
    "        ax.annotate(y1.values[j], (t[j], y1.values[j]-100))\n",
    "\n",
    "anim = animation.FuncAnimation(fig, animate, frames = len(t) + 1, interval = 800, blit = False)\n",
    "\n",
    "plt.show()"
   ]
  }
 ],
 "metadata": {
  "kernelspec": {
   "display_name": "Python 3",
   "language": "python",
   "name": "python3"
  },
  "language_info": {
   "codemirror_mode": {
    "name": "ipython",
    "version": 3
   },
   "file_extension": ".py",
   "mimetype": "text/x-python",
   "name": "python",
   "nbconvert_exporter": "python",
   "pygments_lexer": "ipython3",
   "version": "3.8.5"
  }
 },
 "nbformat": 4,
 "nbformat_minor": 4
}
